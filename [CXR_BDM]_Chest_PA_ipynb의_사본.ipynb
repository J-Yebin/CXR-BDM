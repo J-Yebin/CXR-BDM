{
  "nbformat": 4,
  "nbformat_minor": 0,
  "metadata": {
    "colab": {
      "name": "[CXR-BDM] Chest PA.ipynb의 사본",
      "provenance": [],
      "collapsed_sections": [],
      "toc_visible": true,
      "mount_file_id": "1_iYdB2vKJRfLoduBOrRruH1HvtvdtOWe",
      "authorship_tag": "ABX9TyOSpAMiYsI29qqWMG6tYK2H",
      "include_colab_link": true
    },
    "kernelspec": {
      "display_name": "Python 3",
      "name": "python3"
    },
    "language_info": {
      "name": "python"
    }
  },
  "cells": [
    {
      "cell_type": "markdown",
      "metadata": {
        "id": "view-in-github",
        "colab_type": "text"
      },
      "source": [
        "<a href=\"https://colab.research.google.com/github/sujeongEOM/CXR-BDM/blob/main/%5BCXR_BDM%5D_Chest_PA_ipynb%EC%9D%98_%EC%82%AC%EB%B3%B8.ipynb\" target=\"_parent\"><img src=\"https://colab.research.google.com/assets/colab-badge.svg\" alt=\"Open In Colab\"/></a>"
      ]
    },
    {
      "cell_type": "code",
      "metadata": {
        "colab": {
          "base_uri": "https://localhost:8080/"
        },
        "id": "Y2dUMDAL0UBu",
        "outputId": "be12359e-801d-4fbe-c994-68a5d3d31e7d"
      },
      "source": [
        "import os\n",
        "from google.colab import drive\n",
        "drive.mount('/content/drive/')"
      ],
      "execution_count": null,
      "outputs": [
        {
          "output_type": "stream",
          "text": [
            "Drive already mounted at /content/drive/; to attempt to forcibly remount, call drive.mount(\"/content/drive/\", force_remount=True).\n"
          ],
          "name": "stdout"
        }
      ]
    },
    {
      "cell_type": "code",
      "metadata": {
        "colab": {
          "base_uri": "https://localhost:8080/"
        },
        "id": "QQjTTlHz_n8p",
        "outputId": "4abbcab2-b60e-46c3-d1e0-34b703c5ff45"
      },
      "source": [
        "pip install pydicom"
      ],
      "execution_count": null,
      "outputs": [
        {
          "output_type": "stream",
          "text": [
            "Requirement already satisfied: pydicom in /usr/local/lib/python3.7/dist-packages (2.1.2)\n"
          ],
          "name": "stdout"
        }
      ]
    },
    {
      "cell_type": "code",
      "metadata": {
        "id": "XLuqlVtsAO8M"
      },
      "source": [
        "import matplotlib.pyplot as plt\n",
        "import pandas as pd\n",
        "import numpy as np\n",
        "import pydicom as dicom\n",
        "import os\n",
        "import pickle"
      ],
      "execution_count": null,
      "outputs": []
    },
    {
      "cell_type": "code",
      "metadata": {
        "id": "ZErnDrTdA7VT"
      },
      "source": [
        "df = pd.read_csv('/content/drive/MyDrive/Endo-CXR/chestpa_BMD_20210414DXA.xls - Sheet1.csv')"
      ],
      "execution_count": null,
      "outputs": []
    },
    {
      "cell_type": "code",
      "metadata": {
        "id": "ZkiXBntBnyM1"
      },
      "source": [
        "basic_path = '/content/drive/MyDrive/Endo-CXR'\n",
        "both = '/content/drive/MyDrive/Endo-CXR/Chest PA, Lat (Both)'\n",
        "lt = '/content/drive/MyDrive/Endo-CXR/Chest PA, Lat (Lt)'\n",
        "rt = '/content/drive/MyDrive/Endo-CXR/Chest PA, Lat (Rt)'"
      ],
      "execution_count": null,
      "outputs": []
    },
    {
      "cell_type": "markdown",
      "metadata": {
        "id": "1eSVBPgdqDYe"
      },
      "source": [
        "# PA - designated"
      ]
    },
    {
      "cell_type": "code",
      "metadata": {
        "id": "Vv3u5OlIqC1i"
      },
      "source": [
        "#pa파일을 직접 지정한 pt id와 filename\n",
        "DesigID = [...]\n",
        "DesigPA = [...] #직접 출력해주는 케이스들\n"
      ],
      "execution_count": null,
      "outputs": []
    },
    {
      "cell_type": "markdown",
      "metadata": {
        "id": "JmkJ8zULximH"
      },
      "source": [
        "#PA - using header metadata"
      ]
    },
    {
      "cell_type": "code",
      "metadata": {
        "id": "jXSaXkjf1S7i"
      },
      "source": [
        "HeaderID = []\n",
        "HeaderPA = []\n",
        "\n",
        "for (path, dir, files) in os.walk(basic_path):\n",
        "    for filename in files:\n",
        "        ext = os.path.splitext(filename)[-1]\n",
        "        if ext == '.dcm':\n",
        "            file_path = \"%s/%s\" % (path, filename)\n",
        "            ds = dicom.dcmread(file_path)\n",
        "            if ds.PatientID in DesigID:\n",
        "                pass  \n",
        "            else:\n",
        "                try:\n",
        "                    #series description으로 pa 추출\n",
        "                    if ds.SeriesDescription == 'CHEST PA' or ds.SeriesDescription == 'PA' or ds.SeriesDescription == 'AP' or ds.SeriesDescription == 'CHEST AP':\n",
        "                        HeaderID.append(ds.PatientID)\n",
        "                        HeaderPA.append(file_path)\n",
        "                    #series description으로 안 되는 경우\n",
        "                    elif ds.SeriesDescription == 'Chest' or ds.SeriesDescription == 'CHEST':\n",
        "                        if ds.ViewPosition == 'PA' or ds.ViewPosition == 'AP':\n",
        "                            HeaderID.append(ds.PatientID)\n",
        "                            HeaderPA.append(file_path)\n",
        "                        elif ds.AcquisitionDeviceProcessingDescription == 'CHEST - PA' or ds.AcquisitionDeviceProcessingDescription == 'CHEST PA':\n",
        "                            HeaderID.append(ds.PatientID)\n",
        "                            HeaderPA.append(file_path)\n",
        "                        elif ds.ProtocolName == 'CHEST PA(LDI)':\n",
        "                            HeaderID.append(ds.PatientID)\n",
        "                            HeaderPA.append(file_path)\n",
        "                except AttributeError as e:\n",
        "                    if ds.AcquisitionDeviceProcessingDescription == 'CHEST - PA' or ds.AcquisitionDeviceProcessingDescription == 'CHEST PA':\n",
        "                        HeaderID.append(ds.PatientID)\n",
        "                        HeaderPA.append(file_path)\n"
      ],
      "execution_count": null,
      "outputs": []
    },
    {
      "cell_type": "code",
      "metadata": {
        "id": "qLKz2-oDuUcA"
      },
      "source": [
        "# save\n",
        "with open(basic_path + '/HeaderID.pickle', 'wb') as f:\n",
        "    pickle.dump(HeaderID, f)\n",
        "\n",
        "with open(basic_path + '/HeaderPA.pickle', 'wb') as f:\n",
        "    pickle.dump(HeaderPA, f)"
      ],
      "execution_count": null,
      "outputs": []
    },
    {
      "cell_type": "code",
      "metadata": {
        "id": "fUgBPh-NmHpj"
      },
      "source": [
        "#load\n",
        "with open(basic_path + '/HeaderID.pickle', 'rb') as f:\n",
        "    HeaderID = pickle.load(f)\n",
        "\n",
        "with open(basic_path + '/HeaderPA.pickle', 'rb') as f:\n",
        "    HeaderPA = pickle.load(f)"
      ],
      "execution_count": null,
      "outputs": []
    },
    {
      "cell_type": "markdown",
      "metadata": {
        "id": "SvNbOgbzxtQv"
      },
      "source": [
        "#PA - first file in directory"
      ]
    },
    {
      "cell_type": "code",
      "metadata": {
        "id": "ODDqpCI-oAk-"
      },
      "source": [
        "# dcm data로 pa 출력 안 돼서 환자 폴더 내 첫번째 파일 출력하기 (보통 첫번째 파일이 pa)\n",
        "# x-ray 직접 추출 시 폴더 명을 pt id로 했음\n",
        "\n",
        "TotalID = set(os.listdir(both) + os.listdir(rt) + os.listdir(lt))\n",
        "FirstLocID = TotalID - set(DesigID) - set(HeaderID)\n",
        "FirstLocPA = []\n",
        "\n",
        "\n",
        "for i in FirstLocID:\n",
        "    f_list = []\n",
        "    if i in os.listdir(both):\n",
        "        path = both + \"/\" + i\n",
        "    elif i in os.listdir(lt):\n",
        "        path = lt + \"/\" + i\n",
        "    elif i in os.listdir(rt):\n",
        "        path = rt + \"/\" + i\n",
        "#lat(lt) or lat(rt)는 파일 개수가 2개여서 가능한 방식    \n",
        "    f_filenames = os.listdir(path)\n",
        "    if f_filenames[0] > f_filenames[1]:\n",
        "        pa_file = path + \"/\" + f_filenames[1]\n",
        "    else:\n",
        "        pa_file = path + \"/\" + f_filenames[0] \n",
        "    FirstLocPA.append(pa_file)"
      ],
      "execution_count": null,
      "outputs": []
    },
    {
      "cell_type": "markdown",
      "metadata": {
        "id": "MzN_guNw3oQL"
      },
      "source": [
        "#PA - total file_paths"
      ]
    },
    {
      "cell_type": "code",
      "metadata": {
        "id": "5wAO7BlnWfZS"
      },
      "source": [
        "TotalPA = DesigPA + HeaderPA + FirstLocPA"
      ],
      "execution_count": null,
      "outputs": []
    },
    {
      "cell_type": "code",
      "metadata": {
        "id": "jm3APKaU31ff"
      },
      "source": [
        "# save\n",
        "with open(basic_path + '/TotalPA', 'wb') as f:\n",
        "    pickle.dump(TotalPA, f)"
      ],
      "execution_count": null,
      "outputs": []
    },
    {
      "cell_type": "code",
      "metadata": {
        "id": "t44w23mx36vq"
      },
      "source": [
        "#load\n",
        "with open(basic_path + '/TotalPA', 'rb') as f:\n",
        "    TotalPA = pickle.load(f)"
      ],
      "execution_count": null,
      "outputs": []
    }
  ]
}